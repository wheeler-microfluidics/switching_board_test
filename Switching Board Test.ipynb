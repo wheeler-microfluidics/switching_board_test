{
 "metadata": {
  "name": "",
  "signature": "sha256:67e157dd20547713f54c08ed12be62c4c57d3d183f891e359112f2e046e1caa7"
 },
 "nbformat": 3,
 "nbformat_minor": 0,
 "worksheets": [
  {
   "cells": [
    {
     "cell_type": "code",
     "collapsed": false,
     "input": [
      "%run initialize.py"
     ],
     "language": "python",
     "metadata": {},
     "outputs": [
      {
       "output_type": "stream",
       "stream": "stdout",
       "text": [
        "[interfaces] <_MainThread(MainThread, started 140702146160448)>\n",
        "Loading chipmunk for Linux (64bit) [/home/parallels/.virtualenvs/Microdrop/local/lib/python2.7/site-packages/pymunk/libchipmunk64.so]\n"
       ]
      },
      {
       "output_type": "stream",
       "stream": "stdout",
       "text": [
        "\n",
        "free memory:"
       ]
      },
      {
       "output_type": "stream",
       "stream": "stdout",
       "text": [
        " 248\n"
       ]
      }
     ],
     "prompt_number": 1
    },
    {
     "cell_type": "code",
     "collapsed": false,
     "input": [
      "def all_channel_feedback():\n",
      "    control.amplifier_gain = 1\n",
      "    control.set_waveform_frequency(10e3)\n",
      "    control.set_waveform_voltage(1)\n",
      "    feedback = []\n",
      "    for i in range(0, 40):\n",
      "        node.turn_on_channel(i)\n",
      "        results = control.measure_impedance(10, 5, 0, [])\n",
      "        results_frame = pd.DataFrame(list(results)).T\n",
      "        max_voltage = (8*results_frame[results_frame[3] >= 0][2].describe()['mean'] + (2 * results_frame[results_frame[3] >= 0][2].describe()['std']))\n",
      "        feedback_bool = 'Fail'\n",
      "        if int(max_voltage) >= 1:\n",
      "            if int(max_voltage) <= 2:\n",
      "                feedback_bool = 'Pass'\n",
      "        feedback.append(feedback_bool)\n",
      "    channel_response = pd.DataFrame(list(feedback), index=list(range(0, 40)))\n",
      "    return channel_response\n",
      "\n",
      "all_channel_feedback()"
     ],
     "language": "python",
     "metadata": {},
     "outputs": [
      {
       "html": [
        "<div style=\"max-height:1000px;max-width:1500px;overflow:auto;\">\n",
        "<table border=\"1\" class=\"dataframe\">\n",
        "  <thead>\n",
        "    <tr style=\"text-align: right;\">\n",
        "      <th></th>\n",
        "      <th>0</th>\n",
        "    </tr>\n",
        "  </thead>\n",
        "  <tbody>\n",
        "    <tr>\n",
        "      <th>0 </th>\n",
        "      <td> Fail</td>\n",
        "    </tr>\n",
        "    <tr>\n",
        "      <th>1 </th>\n",
        "      <td> Fail</td>\n",
        "    </tr>\n",
        "    <tr>\n",
        "      <th>2 </th>\n",
        "      <td> Fail</td>\n",
        "    </tr>\n",
        "    <tr>\n",
        "      <th>3 </th>\n",
        "      <td> Fail</td>\n",
        "    </tr>\n",
        "    <tr>\n",
        "      <th>4 </th>\n",
        "      <td> Fail</td>\n",
        "    </tr>\n",
        "    <tr>\n",
        "      <th>5 </th>\n",
        "      <td> Fail</td>\n",
        "    </tr>\n",
        "    <tr>\n",
        "      <th>6 </th>\n",
        "      <td> Fail</td>\n",
        "    </tr>\n",
        "    <tr>\n",
        "      <th>7 </th>\n",
        "      <td> Fail</td>\n",
        "    </tr>\n",
        "    <tr>\n",
        "      <th>8 </th>\n",
        "      <td> Fail</td>\n",
        "    </tr>\n",
        "    <tr>\n",
        "      <th>9 </th>\n",
        "      <td> Fail</td>\n",
        "    </tr>\n",
        "    <tr>\n",
        "      <th>10</th>\n",
        "      <td> Fail</td>\n",
        "    </tr>\n",
        "    <tr>\n",
        "      <th>11</th>\n",
        "      <td> Fail</td>\n",
        "    </tr>\n",
        "    <tr>\n",
        "      <th>12</th>\n",
        "      <td> Fail</td>\n",
        "    </tr>\n",
        "    <tr>\n",
        "      <th>13</th>\n",
        "      <td> Fail</td>\n",
        "    </tr>\n",
        "    <tr>\n",
        "      <th>14</th>\n",
        "      <td> Fail</td>\n",
        "    </tr>\n",
        "    <tr>\n",
        "      <th>15</th>\n",
        "      <td> Fail</td>\n",
        "    </tr>\n",
        "    <tr>\n",
        "      <th>16</th>\n",
        "      <td> Fail</td>\n",
        "    </tr>\n",
        "    <tr>\n",
        "      <th>17</th>\n",
        "      <td> Fail</td>\n",
        "    </tr>\n",
        "    <tr>\n",
        "      <th>18</th>\n",
        "      <td> Fail</td>\n",
        "    </tr>\n",
        "    <tr>\n",
        "      <th>19</th>\n",
        "      <td> Fail</td>\n",
        "    </tr>\n",
        "    <tr>\n",
        "      <th>20</th>\n",
        "      <td> Fail</td>\n",
        "    </tr>\n",
        "    <tr>\n",
        "      <th>21</th>\n",
        "      <td> Fail</td>\n",
        "    </tr>\n",
        "    <tr>\n",
        "      <th>22</th>\n",
        "      <td> Fail</td>\n",
        "    </tr>\n",
        "    <tr>\n",
        "      <th>23</th>\n",
        "      <td> Fail</td>\n",
        "    </tr>\n",
        "    <tr>\n",
        "      <th>24</th>\n",
        "      <td> Fail</td>\n",
        "    </tr>\n",
        "    <tr>\n",
        "      <th>25</th>\n",
        "      <td> Fail</td>\n",
        "    </tr>\n",
        "    <tr>\n",
        "      <th>26</th>\n",
        "      <td> Fail</td>\n",
        "    </tr>\n",
        "    <tr>\n",
        "      <th>27</th>\n",
        "      <td> Fail</td>\n",
        "    </tr>\n",
        "    <tr>\n",
        "      <th>28</th>\n",
        "      <td> Fail</td>\n",
        "    </tr>\n",
        "    <tr>\n",
        "      <th>29</th>\n",
        "      <td> Fail</td>\n",
        "    </tr>\n",
        "    <tr>\n",
        "      <th>30</th>\n",
        "      <td> Fail</td>\n",
        "    </tr>\n",
        "    <tr>\n",
        "      <th>31</th>\n",
        "      <td> Fail</td>\n",
        "    </tr>\n",
        "    <tr>\n",
        "      <th>32</th>\n",
        "      <td> Fail</td>\n",
        "    </tr>\n",
        "    <tr>\n",
        "      <th>33</th>\n",
        "      <td> Fail</td>\n",
        "    </tr>\n",
        "    <tr>\n",
        "      <th>34</th>\n",
        "      <td> Fail</td>\n",
        "    </tr>\n",
        "    <tr>\n",
        "      <th>35</th>\n",
        "      <td> Fail</td>\n",
        "    </tr>\n",
        "    <tr>\n",
        "      <th>36</th>\n",
        "      <td> Fail</td>\n",
        "    </tr>\n",
        "    <tr>\n",
        "      <th>37</th>\n",
        "      <td> Fail</td>\n",
        "    </tr>\n",
        "    <tr>\n",
        "      <th>38</th>\n",
        "      <td> Fail</td>\n",
        "    </tr>\n",
        "    <tr>\n",
        "      <th>39</th>\n",
        "      <td> Fail</td>\n",
        "    </tr>\n",
        "  </tbody>\n",
        "</table>\n",
        "<p>40 rows \u00d7 1 columns</p>\n",
        "</div>"
       ],
       "metadata": {},
       "output_type": "pyout",
       "prompt_number": 2,
       "text": [
        "       0\n",
        "0   Fail\n",
        "1   Fail\n",
        "2   Fail\n",
        "3   Fail\n",
        "4   Fail\n",
        "5   Fail\n",
        "6   Fail\n",
        "7   Fail\n",
        "8   Fail\n",
        "9   Fail\n",
        "10  Fail\n",
        "11  Fail\n",
        "12  Fail\n",
        "13  Fail\n",
        "14  Fail\n",
        "15  Fail\n",
        "16  Fail\n",
        "17  Fail\n",
        "18  Fail\n",
        "19  Fail\n",
        "20  Fail\n",
        "21  Fail\n",
        "22  Fail\n",
        "23  Fail\n",
        "24  Fail\n",
        "25  Fail\n",
        "26  Fail\n",
        "27  Fail\n",
        "28  Fail\n",
        "29  Fail\n",
        "30  Fail\n",
        "31  Fail\n",
        "32  Fail\n",
        "33  Fail\n",
        "34  Fail\n",
        "35  Fail\n",
        "36  Fail\n",
        "37  Fail\n",
        "38  Fail\n",
        "39  Fail\n",
        "\n",
        "[40 rows x 1 columns]"
       ]
      }
     ],
     "prompt_number": 2
    },
    {
     "cell_type": "code",
     "collapsed": false,
     "input": [
      "from IPython.display import display\n",
      "\n",
      "\n",
      "def read_feedback_voltage_samples(channel):\n",
      "    control.amplifier_gain = 1\n",
      "    control.set_waveform_frequency(10e3)\n",
      "    control.set_waveform_voltage(1)\n",
      "    max_voltages = []\n",
      "    node.turn_on_channel(channel)\n",
      "    results = control.measure_impedance(10, 100, 0, [])\n",
      "    results_frame = pd.DataFrame(list(results)).T\n",
      "    return results_frame\n",
      "\n",
      "feedback_voltages = read_feedback_voltage_samples(1)\n",
      "#display(feedback_voltages)\n",
      "feedback_voltages.describe()"
     ],
     "language": "python",
     "metadata": {},
     "outputs": [
      {
       "html": [
        "<div style=\"max-height:1000px;max-width:1500px;overflow:auto;\">\n",
        "<table border=\"1\" class=\"dataframe\">\n",
        "  <thead>\n",
        "    <tr style=\"text-align: right;\">\n",
        "      <th></th>\n",
        "      <th>0</th>\n",
        "      <th>1</th>\n",
        "      <th>2</th>\n",
        "      <th>3</th>\n",
        "    </tr>\n",
        "  </thead>\n",
        "  <tbody>\n",
        "    <tr>\n",
        "      <th>count</th>\n",
        "      <td> 100.000000</td>\n",
        "      <td> 100</td>\n",
        "      <td> 100.000000</td>\n",
        "      <td> 100.000000</td>\n",
        "    </tr>\n",
        "    <tr>\n",
        "      <th>mean</th>\n",
        "      <td>   0.052013</td>\n",
        "      <td>   2</td>\n",
        "      <td>  -0.485557</td>\n",
        "      <td>  -0.410000</td>\n",
        "    </tr>\n",
        "    <tr>\n",
        "      <th>std</th>\n",
        "      <td>   0.021109</td>\n",
        "      <td>   0</td>\n",
        "      <td>   1.139221</td>\n",
        "      <td>   0.494311</td>\n",
        "    </tr>\n",
        "    <tr>\n",
        "      <th>min</th>\n",
        "      <td>   0.034560</td>\n",
        "      <td>   2</td>\n",
        "      <td>  -1.767767</td>\n",
        "      <td>  -1.000000</td>\n",
        "    </tr>\n",
        "    <tr>\n",
        "      <th>25%</th>\n",
        "      <td>   0.038016</td>\n",
        "      <td>   2</td>\n",
        "      <td>  -1.767767</td>\n",
        "      <td>  -1.000000</td>\n",
        "    </tr>\n",
        "    <tr>\n",
        "      <th>50%</th>\n",
        "      <td>   0.043201</td>\n",
        "      <td>   2</td>\n",
        "      <td>   0.000000</td>\n",
        "      <td>   0.000000</td>\n",
        "    </tr>\n",
        "    <tr>\n",
        "      <th>75%</th>\n",
        "      <td>   0.057889</td>\n",
        "      <td>   2</td>\n",
        "      <td>   0.247107</td>\n",
        "      <td>   0.000000</td>\n",
        "    </tr>\n",
        "    <tr>\n",
        "      <th>max</th>\n",
        "      <td>   0.145154</td>\n",
        "      <td>   2</td>\n",
        "      <td>   1.294289</td>\n",
        "      <td>   0.000000</td>\n",
        "    </tr>\n",
        "  </tbody>\n",
        "</table>\n",
        "<p>8 rows \u00d7 4 columns</p>\n",
        "</div>"
       ],
       "metadata": {},
       "output_type": "pyout",
       "prompt_number": 5,
       "text": [
        "                0    1           2           3\n",
        "count  100.000000  100  100.000000  100.000000\n",
        "mean     0.052013    2   -0.485557   -0.410000\n",
        "std      0.021109    0    1.139221    0.494311\n",
        "min      0.034560    2   -1.767767   -1.000000\n",
        "25%      0.038016    2   -1.767767   -1.000000\n",
        "50%      0.043201    2    0.000000    0.000000\n",
        "75%      0.057889    2    0.247107    0.000000\n",
        "max      0.145154    2    1.294289    0.000000\n",
        "\n",
        "[8 rows x 4 columns]"
       ]
      }
     ],
     "prompt_number": 5
    },
    {
     "cell_type": "code",
     "collapsed": false,
     "input": [
      "from IPython.display import display\n",
      "\n",
      "\n",
      "def read_feedback_voltage_samples(channel):\n",
      "    control.amplifier_gain = 1\n",
      "    control.set_waveform_frequency(10e3)\n",
      "    control.set_waveform_voltage(1)\n",
      "    max_voltages = []\n",
      "    node.turn_on_channel(channel)\n",
      "    results = control.measure_impedance(10, 100, 0, [])\n",
      "    results_frame = pd.DataFrame(list(results)).T\n",
      "    return results_frame\n",
      "\n",
      "feedback_voltages = read_feedback_voltage_samples(0)\n",
      "#display(feedback_voltages)\n",
      "feedback_voltages.describe()"
     ],
     "language": "python",
     "metadata": {},
     "outputs": [
      {
       "html": [
        "<div style=\"max-height:1000px;max-width:1500px;overflow:auto;\">\n",
        "<table border=\"1\" class=\"dataframe\">\n",
        "  <thead>\n",
        "    <tr style=\"text-align: right;\">\n",
        "      <th></th>\n",
        "      <th>0</th>\n",
        "      <th>1</th>\n",
        "      <th>2</th>\n",
        "      <th>3</th>\n",
        "    </tr>\n",
        "  </thead>\n",
        "  <tbody>\n",
        "    <tr>\n",
        "      <th>count</th>\n",
        "      <td> 100.000000</td>\n",
        "      <td> 100</td>\n",
        "      <td> 100.000000</td>\n",
        "      <td> 100</td>\n",
        "    </tr>\n",
        "    <tr>\n",
        "      <th>mean</th>\n",
        "      <td>   0.036600</td>\n",
        "      <td>   2</td>\n",
        "      <td>   0.085503</td>\n",
        "      <td>   0</td>\n",
        "    </tr>\n",
        "    <tr>\n",
        "      <th>std</th>\n",
        "      <td>   0.010729</td>\n",
        "      <td>   0</td>\n",
        "      <td>   0.008492</td>\n",
        "      <td>   0</td>\n",
        "    </tr>\n",
        "    <tr>\n",
        "      <th>min</th>\n",
        "      <td>   0.034560</td>\n",
        "      <td>   2</td>\n",
        "      <td>   0.065665</td>\n",
        "      <td>   0</td>\n",
        "    </tr>\n",
        "    <tr>\n",
        "      <th>25%</th>\n",
        "      <td>   0.034560</td>\n",
        "      <td>   2</td>\n",
        "      <td>   0.079489</td>\n",
        "      <td>   0</td>\n",
        "    </tr>\n",
        "    <tr>\n",
        "      <th>50%</th>\n",
        "      <td>   0.034560</td>\n",
        "      <td>   2</td>\n",
        "      <td>   0.082945</td>\n",
        "      <td>   0</td>\n",
        "    </tr>\n",
        "    <tr>\n",
        "      <th>75%</th>\n",
        "      <td>   0.038016</td>\n",
        "      <td>   2</td>\n",
        "      <td>   0.090289</td>\n",
        "      <td>   0</td>\n",
        "    </tr>\n",
        "    <tr>\n",
        "      <th>max</th>\n",
        "      <td>   0.141698</td>\n",
        "      <td>   2</td>\n",
        "      <td>   0.105409</td>\n",
        "      <td>   0</td>\n",
        "    </tr>\n",
        "  </tbody>\n",
        "</table>\n",
        "<p>8 rows \u00d7 4 columns</p>\n",
        "</div>"
       ],
       "metadata": {},
       "output_type": "pyout",
       "prompt_number": 7,
       "text": [
        "                0    1           2    3\n",
        "count  100.000000  100  100.000000  100\n",
        "mean     0.036600    2    0.085503    0\n",
        "std      0.010729    0    0.008492    0\n",
        "min      0.034560    2    0.065665    0\n",
        "25%      0.034560    2    0.079489    0\n",
        "50%      0.034560    2    0.082945    0\n",
        "75%      0.038016    2    0.090289    0\n",
        "max      0.141698    2    0.105409    0\n",
        "\n",
        "[8 rows x 4 columns]"
       ]
      }
     ],
     "prompt_number": 7
    },
    {
     "cell_type": "code",
     "collapsed": false,
     "input": [
      "node.turn_on_channel(1)"
     ],
     "language": "python",
     "metadata": {},
     "outputs": [],
     "prompt_number": 14
    },
    {
     "cell_type": "code",
     "collapsed": false,
     "input": [
      "node.push_state_register(state = 0)\n",
      "#[node.push_state_register(state = i) for i in range(256)] == range(256)\n",
      "[node.get_state_register(index = i) for i in range(5)]"
     ],
     "language": "python",
     "metadata": {},
     "outputs": [
      {
       "metadata": {},
       "output_type": "pyout",
       "prompt_number": 124,
       "text": [
        "[0, 0, 0, 0, 0]"
       ]
      }
     ],
     "prompt_number": 124
    },
    {
     "cell_type": "code",
     "collapsed": false,
     "input": [
      "node.set_channel_duty_cycle(percent=100, channel=0)\n",
      "[[node.get_pwm_state_register(timeslice=j, index = i) for i in range(5)]\n",
      " for j in range(1,17)]"
     ],
     "language": "python",
     "metadata": {},
     "outputs": [
      {
       "metadata": {},
       "output_type": "pyout",
       "prompt_number": 2,
       "text": [
        "[[1, 0, 0, 0, 0],\n",
        " [1, 0, 0, 0, 0],\n",
        " [1, 0, 0, 0, 0],\n",
        " [1, 0, 0, 0, 0],\n",
        " [1, 0, 0, 0, 0],\n",
        " [1, 0, 0, 0, 0],\n",
        " [1, 0, 0, 0, 0],\n",
        " [1, 0, 0, 0, 0],\n",
        " [1, 0, 0, 0, 0],\n",
        " [1, 0, 0, 0, 0],\n",
        " [1, 0, 0, 0, 0],\n",
        " [1, 0, 0, 0, 0],\n",
        " [1, 0, 0, 0, 0],\n",
        " [1, 0, 0, 0, 0],\n",
        " [1, 0, 0, 0, 0],\n",
        " [1, 0, 0, 0, 0]]"
       ]
      }
     ],
     "prompt_number": 2
    },
    {
     "cell_type": "code",
     "collapsed": false,
     "input": [
      "node.apply_next_pwm_state()"
     ],
     "language": "python",
     "metadata": {},
     "outputs": [
      {
       "metadata": {},
       "output_type": "pyout",
       "prompt_number": 14,
       "text": [
        "<hv_switching_board_rpc.protobuf_commands.ApplyNextPwmStateResponse at 0x573ffa0>"
       ]
      }
     ],
     "prompt_number": 14
    },
    {
     "cell_type": "code",
     "collapsed": false,
     "input": [
      "node.set_pwm_state(time_slice = 1)"
     ],
     "language": "python",
     "metadata": {},
     "outputs": [
      {
       "metadata": {},
       "output_type": "pyout",
       "prompt_number": 9,
       "text": [
        "<hv_switching_board_rpc.protobuf_commands.SetPwmStateResponse at 0x4fb2d00>"
       ]
      }
     ],
     "prompt_number": 9
    },
    {
     "cell_type": "code",
     "collapsed": false,
     "input": [
      "control.auto_adjust_amplifier_gain = True"
     ],
     "language": "python",
     "metadata": {},
     "outputs": [],
     "prompt_number": 3
    },
    {
     "cell_type": "code",
     "collapsed": false,
     "input": [
      "control.amplifier_gain = 1"
     ],
     "language": "python",
     "metadata": {},
     "outputs": [],
     "prompt_number": 4
    },
    {
     "cell_type": "code",
     "collapsed": false,
     "input": [
      "control.set_waveform_frequency(10e3)"
     ],
     "language": "python",
     "metadata": {},
     "outputs": [
      {
       "metadata": {},
       "output_type": "pyout",
       "prompt_number": 5,
       "text": [
        "0"
       ]
      }
     ],
     "prompt_number": 5
    },
    {
     "cell_type": "code",
     "collapsed": false,
     "input": [
      "control.set_waveform_voltage(1.34)"
     ],
     "language": "python",
     "metadata": {},
     "outputs": [
      {
       "metadata": {},
       "output_type": "pyout",
       "prompt_number": 6,
       "text": [
        "0"
       ]
      }
     ],
     "prompt_number": 6
    },
    {
     "cell_type": "code",
     "collapsed": false,
     "input": [
      "node.set_pwm_enabled(value = True)"
     ],
     "language": "python",
     "metadata": {},
     "outputs": [
      {
       "metadata": {},
       "output_type": "pyout",
       "prompt_number": 7,
       "text": [
        "<hv_switching_board_rpc.protobuf_commands.SetPwmEnabledResponse at 0x5ff48a0>"
       ]
      }
     ],
     "prompt_number": 7
    },
    {
     "cell_type": "code",
     "collapsed": false,
     "input": [
      "for i in range(1, 4):\n",
      "    read_feedback_voltage_samples(i).plot(title='%s' % i)\n",
      "    plt.figure()"
     ],
     "language": "python",
     "metadata": {},
     "outputs": [],
     "prompt_number": 24
    },
    {
     "cell_type": "code",
     "collapsed": false,
     "input": [
      "node.turn_on_channel(39)\n",
      "results = control.measure_impedance(10, 100, 0, [])\n",
      "results_frame = pd.DataFrame(list(results)).T\n",
      "results_frame[results_frame[3] >= 0][2].plot()"
     ],
     "language": "python",
     "metadata": {},
     "outputs": [
      {
       "metadata": {},
       "output_type": "pyout",
       "prompt_number": 22,
       "text": [
        "<matplotlib.axes.AxesSubplot at 0x41c2710>"
       ]
      }
     ],
     "prompt_number": 22
    },
    {
     "cell_type": "code",
     "collapsed": false,
     "input": [
      "plt.plot(control.analog_reads(1, 100))"
     ],
     "language": "python",
     "metadata": {},
     "outputs": [
      {
       "metadata": {},
       "output_type": "pyout",
       "prompt_number": 31,
       "text": [
        "[<matplotlib.lines.Line2D at 0x52d8590>]"
       ]
      },
      {
       "metadata": {},
       "output_type": "display_data",
       "png": "[encoded data removed]",
       "text": [
        "<matplotlib.figure.Figure at 0x6185610>"
       ]
      }
     ],
     "prompt_number": 31
    },
    {
     "cell_type": "code",
     "collapsed": false,
     "input": [
      "plt.plot(control.analog_reads(1, 100))"
     ],
     "language": "python",
     "metadata": {},
     "outputs": [
      {
       "metadata": {},
       "output_type": "pyout",
       "prompt_number": 26,
       "text": [
        "[<matplotlib.lines.Line2D at 0x7b7e1d0>]"
       ]
      }
     ],
     "prompt_number": 26
    },
    {
     "cell_type": "code",
     "collapsed": false,
     "input": [
      "results"
     ],
     "language": "python",
     "metadata": {},
     "outputs": [
      {
       "metadata": {},
       "output_type": "pyout",
       "prompt_number": 27,
       "text": [
        "(array([ 0.14515388,  0.03801649,  0.03801649,  0.03801649,  0.04147254,\n",
        "         0.03801649,  0.04147254,  0.04147254,  0.03801649,  0.04147254,\n",
        "         0.04147254,  0.04147254,  0.04147254,  0.04147254,  0.03801649,\n",
        "         0.04147254,  0.04147254,  0.04838463,  0.04147254,  0.04320056,\n",
        "         0.04320056,  0.04320056,  0.04147254,  0.03801649,  0.04147254,\n",
        "         0.04320056,  0.04320056,  0.04147254,  0.04320056,  0.04147254,\n",
        "         0.04147254,  0.04147254,  0.04147254,  0.04147254,  0.04320056,\n",
        "         0.03801649,  0.04320056,  0.04147254,  0.04320056,  0.04320056,\n",
        "         0.04147254,  0.04320056,  0.04147254,  0.04320056,  0.04147254,\n",
        "         0.04147254,  0.04147254,  0.04320056,  0.04147254,  0.04320056,\n",
        "         0.04320056,  0.04147254,  0.04320056,  0.04320056,  0.04320056,\n",
        "         0.04320056,  0.04320056,  0.04320056,  0.04320056,  0.04320056,\n",
        "         0.04147254,  0.04320056,  0.04320056,  0.04147254,  0.04320056,\n",
        "         0.04320056,  0.04320056,  0.04320056,  0.04320056,  0.04320056,\n",
        "         0.04320056,  0.04147254,  0.04320056,  0.04320056,  0.04320056,\n",
        "         0.04320056,  0.04320056,  0.04320056,  0.04320056,  0.04147254,\n",
        "         0.04320056,  0.04320056,  0.04320056,  0.04320056,  0.04320056,\n",
        "         0.04320056,  0.04320056,  0.04320056,  0.04320056,  0.04147254,\n",
        "         0.04147254,  0.04147254,  0.04147254,  0.04320056,  0.04320056,\n",
        "         0.04320056,  0.04320056,  0.04320056,  0.04320056,  0.04147254]),\n",
        " array([2, 2, 2, 2, 2, 2, 2, 2, 2, 2, 2, 2, 2, 2, 2, 2, 2, 2, 2, 2, 2, 2, 2,\n",
        "        2, 2, 2, 2, 2, 2, 2, 2, 2, 2, 2, 2, 2, 2, 2, 2, 2, 2, 2, 2, 2, 2, 2,\n",
        "        2, 2, 2, 2, 2, 2, 2, 2, 2, 2, 2, 2, 2, 2, 2, 2, 2, 2, 2, 2, 2, 2, 2,\n",
        "        2, 2, 2, 2, 2, 2, 2, 2, 2, 2, 2, 2, 2, 2, 2, 2, 2, 2, 2, 2, 2, 2, 2,\n",
        "        2, 2, 2, 2, 2, 2, 2, 2]),\n",
        " array([ 0.02246429,  0.00864011,  0.00518407,  0.00864011,  0.00345604,\n",
        "         0.00864011,  0.00518407,  0.00345604,  0.00691209,  0.00345604,\n",
        "         0.00518407,  0.00864011,  0.00691209,  0.00518407,  0.01036813,\n",
        "         0.00518407,  0.00518407,  0.01036813,  0.00345604,  0.00518407,\n",
        "         0.00345604,  0.01036813,  0.01036813,  0.00864011,  0.00864011,\n",
        "         0.00518407,  0.00864011,  0.01036813,  0.00864011,  0.00518407,\n",
        "         0.00864011,  0.00518407,  0.01036813,  0.00864011,  0.01036813,\n",
        "         0.00518407,  0.00518407,  0.00518407,  0.00345604,  0.00518407,\n",
        "         0.00518407,  0.00518407,  0.01036813,  0.00518407,  0.00864011,\n",
        "         0.00518407,  0.00864011,  0.00518407,  0.00345604,  0.00518407,\n",
        "         0.00691209,  0.00518407,  0.00864011,  0.00864011,  0.00864011,\n",
        "         0.00518407,  0.00518407,  0.00691209,  0.00518407,  0.00518407,\n",
        "         0.00345604,  0.00864011,  0.00518407,  0.00518407,  0.00345604,\n",
        "         0.00518407,  0.00518407,  0.00518407,  0.00691209,  0.00864011,\n",
        "         0.00518407,  0.01036813,  0.00345604,  0.01036813,  0.00518407,\n",
        "         0.00345604,  0.00518407,  0.00864011,  0.01036813,  0.01036813,\n",
        "         0.00864011,  0.00345604,  0.00518407,  0.00518407,  0.01036813,\n",
        "         0.00518407,  0.00864011,  0.00864011,  0.00345604,  0.00518407,\n",
        "         0.00345604,  0.00518407,  0.00518407,  0.00518407,  0.00345604,\n",
        "         0.00518407,  0.01036813,  0.00864011,  0.01036813,  0.00518407]),\n",
        " array([0, 0, 0, 0, 0, 0, 0, 0, 0, 0, 0, 0, 0, 0, 0, 0, 0, 0, 0, 0, 0, 0, 0,\n",
        "        0, 0, 0, 0, 0, 0, 0, 0, 0, 0, 0, 0, 0, 0, 0, 0, 0, 0, 0, 0, 0, 0, 0,\n",
        "        0, 0, 0, 0, 0, 0, 0, 0, 0, 0, 0, 0, 0, 0, 0, 0, 0, 0, 0, 0, 0, 0, 0,\n",
        "        0, 0, 0, 0, 0, 0, 0, 0, 0, 0, 0, 0, 0, 0, 0, 0, 0, 0, 0, 0, 0, 0, 0,\n",
        "        0, 0, 0, 0, 0, 0, 0, 0]))"
       ]
      }
     ],
     "prompt_number": 27
    },
    {
     "cell_type": "code",
     "collapsed": false,
     "input": [
      "import pandas as pd"
     ],
     "language": "python",
     "metadata": {},
     "outputs": [],
     "prompt_number": 17
    },
    {
     "cell_type": "code",
     "collapsed": false,
     "input": [
      "results_frame = pd.DataFrame(list(results)).T\n",
      "results_frame[results_frame[3] >= 0]"
     ],
     "language": "python",
     "metadata": {},
     "outputs": [],
     "prompt_number": 21
    },
    {
     "cell_type": "code",
     "collapsed": false,
     "input": [
      "%matplotlib inline"
     ],
     "language": "python",
     "metadata": {},
     "outputs": [],
     "prompt_number": 10
    },
    {
     "cell_type": "code",
     "collapsed": false,
     "input": [
      "import matplotlib.pyplot as plt"
     ],
     "language": "python",
     "metadata": {},
     "outputs": [],
     "prompt_number": 12
    },
    {
     "cell_type": "code",
     "collapsed": false,
     "input": [
      "for i in range(len(results)):\n",
      "    plt.plot(results[i])\n",
      "    plt.figure()"
     ],
     "language": "python",
     "metadata": {},
     "outputs": [
      {
       "metadata": {},
       "output_type": "display_data",
       "png": "[encoded data removed]",
       "text": [
        "<matplotlib.figure.Figure at 0x525d4d0>"
       ]
      },
      {
       "metadata": {},
       "output_type": "display_data",
       "png": "[encoded data removed]",
       "text": [
        "<matplotlib.figure.Figure at 0x524fa90>"
       ]
      },
      {
       "metadata": {},
       "output_type": "display_data",
       "png": "[encoded data removed]",
       "text": [
        "<matplotlib.figure.Figure at 0x5409d10>"
       ]
      },
      {
       "metadata": {},
       "output_type": "display_data",
       "png": "[encoded data removed]",
       "text": [
        "<matplotlib.figure.Figure at 0x528ba10>"
       ]
      },
      {
       "metadata": {},
       "output_type": "display_data",
       "text": [
        "<matplotlib.figure.Figure at 0x52a6090>"
       ]
      }
     ],
     "prompt_number": 16
    }
   ],
   "metadata": {}
  }
 ]
}